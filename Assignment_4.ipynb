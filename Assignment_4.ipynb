{
 "cells": [
  {
   "cell_type": "markdown",
   "metadata": {
    "colab_type": "text",
    "id": "NVMUAJt8gzbA"
   },
   "source": [
    "# MLE and Hypothesis Testing"
   ]
  },
  {
   "cell_type": "markdown",
   "metadata": {
    "colab_type": "text",
    "id": "d1-kEc8hXx3N"
   },
   "source": [
    "### Read the given csv file [```q4.csv```](https://raw.githubusercontent.com/Ipsit1234/SHALA/master/q4.csv) of samples. Assume that it is drawn from a exponential distribution. What is the difference of log likelihoods for $\\lambda = 1$ and $\\lambda = 2$ ? Which of the two is more strongly supported?"
   ]
  },
  {
   "cell_type": "code",
   "execution_count": 62,
   "metadata": {
    "colab": {},
    "colab_type": "code",
    "id": "DHfUkvD3KcNN"
   },
   "outputs": [],
   "source": [
    "import numpy as np\n",
    "import pandas as pd\n",
    "from scipy import stats\n",
    "from matplotlib import pyplot as plt\n",
    "import seaborn as sns"
   ]
  },
  {
   "cell_type": "code",
   "execution_count": 63,
   "metadata": {
    "colab": {},
    "colab_type": "code",
    "id": "UAphR126LEwa"
   },
   "outputs": [
    {
     "data": {
      "text/html": [
       "<div>\n",
       "<style scoped>\n",
       "    .dataframe tbody tr th:only-of-type {\n",
       "        vertical-align: middle;\n",
       "    }\n",
       "\n",
       "    .dataframe tbody tr th {\n",
       "        vertical-align: top;\n",
       "    }\n",
       "\n",
       "    .dataframe thead th {\n",
       "        text-align: right;\n",
       "    }\n",
       "</style>\n",
       "<table border=\"1\" class=\"dataframe\">\n",
       "  <thead>\n",
       "    <tr style=\"text-align: right;\">\n",
       "      <th></th>\n",
       "      <th>0</th>\n",
       "      <th>1</th>\n",
       "    </tr>\n",
       "  </thead>\n",
       "  <tbody>\n",
       "    <tr>\n",
       "      <th>0</th>\n",
       "      <td>0</td>\n",
       "      <td>0.019404</td>\n",
       "    </tr>\n",
       "    <tr>\n",
       "      <th>1</th>\n",
       "      <td>1</td>\n",
       "      <td>0.043634</td>\n",
       "    </tr>\n",
       "    <tr>\n",
       "      <th>2</th>\n",
       "      <td>2</td>\n",
       "      <td>0.023797</td>\n",
       "    </tr>\n",
       "    <tr>\n",
       "      <th>3</th>\n",
       "      <td>3</td>\n",
       "      <td>0.444340</td>\n",
       "    </tr>\n",
       "    <tr>\n",
       "      <th>4</th>\n",
       "      <td>4</td>\n",
       "      <td>0.578160</td>\n",
       "    </tr>\n",
       "  </tbody>\n",
       "</table>\n",
       "</div>"
      ],
      "text/plain": [
       "   0         1\n",
       "0  0  0.019404\n",
       "1  1  0.043634\n",
       "2  2  0.023797\n",
       "3  3  0.444340\n",
       "4  4  0.578160"
      ]
     },
     "execution_count": 63,
     "metadata": {},
     "output_type": "execute_result"
    }
   ],
   "source": [
    "url = 'https://raw.githubusercontent.com/Ipsit1234/SHALA/master/q4.csv'\n",
    "data = pd.read_csv(url,header=None)\n",
    "data.head()"
   ]
  },
  {
   "cell_type": "markdown",
   "metadata": {
    "colab_type": "text",
    "id": "nDpo9jpidQHk"
   },
   "source": [
    "# PDF of exponential distribution is $\\lambda e^{-\\lambda x}$\n",
    "Define a function to find pdf. You can use any module to get pre-defined functions also. And then find the likelihood and log-likelihood"
   ]
  },
  {
   "cell_type": "code",
   "execution_count": 64,
   "metadata": {
    "colab": {},
    "colab_type": "code",
    "id": "Hio8uXrtLjl7"
   },
   "outputs": [
    {
     "name": "stdout",
     "output_type": "stream",
     "text": [
      "Likelihood1 :  5.52106601597132e-22\n",
      "Likelihood2 :  3.864074103681613e-13\n",
      "Log likelihood1 :  -48.94830108538966\n",
      "Log likelihood2 :  -28.581884114784785\n",
      "Difference :  -20.366416970604874\n"
     ]
    }
   ],
   "source": [
    "def pdf(lamb,x):\n",
    "    return lamb * np.exp(-lamb * x)\n",
    "\n",
    "l1 = 1\n",
    "l2 = 1\n",
    "for a in data[1].values:\n",
    "    l1 = l1 * pdf(lamb=1,x=a)\n",
    "    \n",
    "    l2 = l2 * pdf(lamb=2, x=a)\n",
    "    \n",
    "    \n",
    "log_l1 = np.log(l1)\n",
    "log_l2 = np.log(l2)\n",
    "\n",
    "print(\"Likelihood1 : \",l1)\n",
    "print(\"Likelihood2 : \",l2)\n",
    "print(\"Log likelihood1 : \",(log_l1))\n",
    "print(\"Log likelihood2 : \",(log_l2))\n",
    "print(\"Difference : \",(log_l1-log_l2))"
   ]
  },
  {
   "cell_type": "markdown",
   "metadata": {
    "colab_type": "text",
    "id": "q214ixOGeR35"
   },
   "source": [
    "### Read the csv files [```q4_1.csv```](https://raw.githubusercontent.com/Ipsit1234/SHALA/master/q4_1.csv) and [```q4_2.csv```](https://raw.githubusercontent.com/Ipsit1234/SHALA/master/q4_2.csv) to get samples from two unknown distributions. Choose a significance level and implement the the most general two-sample t-test"
   ]
  },
  {
   "cell_type": "code",
   "execution_count": 65,
   "metadata": {
    "colab": {},
    "colab_type": "code",
    "id": "bAsMqWiGdb52"
   },
   "outputs": [
    {
     "name": "stdout",
     "output_type": "stream",
     "text": [
      "   0         1\n",
      "0  0 -0.179278\n",
      "1  1  0.236714\n",
      "2  2  0.255502\n",
      "3  3 -0.029321\n",
      "4  4  0.004818\n",
      "\n",
      "   0         1\n",
      "0  0  0.680541\n",
      "1  1  0.436810\n",
      "2  2  0.604089\n",
      "3  3  0.518702\n",
      "4  4  0.479711\n"
     ]
    }
   ],
   "source": [
    "sample1 = pd.read_csv('https://raw.githubusercontent.com/Ipsit1234/SHALA/master/q4_1.csv',header=None)\n",
    "sample2 = pd.read_csv('https://raw.githubusercontent.com/Ipsit1234/SHALA/master/q4_2.csv',header=None)\n",
    "print(sample1.head())\n",
    "print(\"\")\n",
    "print(sample2.head())"
   ]
  },
  {
   "cell_type": "markdown",
   "metadata": {
    "colab_type": "text",
    "id": "yIvOH3yWiTU9"
   },
   "source": [
    "Find the parameters required to compute the T statistic"
   ]
  },
  {
   "cell_type": "code",
   "execution_count": 66,
   "metadata": {
    "colab": {},
    "colab_type": "code",
    "id": "_3TBrHZifG2u"
   },
   "outputs": [],
   "source": [
    "mean1 = sample1[1].mean()\n",
    "mean2 = sample2[1].mean()\n",
    "var1 = sample1[1].var()\n",
    "var2 = sample2[1].var()\n",
    "shape1 = sample1[1].size\n",
    "shape2 = sample2[1].size\n",
    "alpha = 0.05"
   ]
  },
  {
   "cell_type": "markdown",
   "metadata": {
    "colab_type": "text",
    "id": "3i3gxyQziXD5"
   },
   "source": [
    "Find the degrees of freedom to get the critical value"
   ]
  },
  {
   "cell_type": "code",
   "execution_count": 67,
   "metadata": {
    "colab": {},
    "colab_type": "code",
    "id": "p4Hx9UL3flF8"
   },
   "outputs": [
    {
     "data": {
      "text/plain": [
       "146.81635513053357"
      ]
     },
     "execution_count": 67,
     "metadata": {},
     "output_type": "execute_result"
    }
   ],
   "source": [
    "freedom = (((var1/shape1) + (var2/shape2))**2) / ((((var1/shape1)**2) / (shape1-1)) + (((var2/shape2)**2) / (shape2-1)))\n",
    "freedom"
   ]
  },
  {
   "cell_type": "markdown",
   "metadata": {
    "colab_type": "text",
    "id": "nyai_S1zihfm"
   },
   "source": [
    "Compare the critical value and the T statistic and conclude whether null hypothesis is accepted or not. Print 'YES' is it is rejected, otherwise print 'NO'."
   ]
  },
  {
   "cell_type": "code",
   "execution_count": 68,
   "metadata": {
    "colab": {},
    "colab_type": "code",
    "id": "ST8J42mAfn0R"
   },
   "outputs": [
    {
     "name": "stdout",
     "output_type": "stream",
     "text": [
      "Yes\n"
     ]
    }
   ],
   "source": [
    "t_stat = (mean1 - mean2) / np.sqrt((var1/shape1) + (var2/shape2))\n",
    "critical_value = stats.t.pdf((1 - alpha)/2, freedom)\n",
    "if np.abs(t_stat) > critical_value:\n",
    "    print('Yes')\n",
    "else:\n",
    "    print('No')"
   ]
  },
  {
   "cell_type": "markdown",
   "metadata": {
    "colab_type": "text",
    "id": "SrOP9BwSiwVc"
   },
   "source": [
    "Plot the distribution of both the samples to visualize"
   ]
  },
  {
   "cell_type": "code",
   "execution_count": 69,
   "metadata": {
    "colab": {
     "base_uri": "https://localhost:8080/",
     "height": 265
    },
    "colab_type": "code",
    "id": "omfVDZqxfyAM",
    "outputId": "46dece49-758d-4830-9865-976145d664f3"
   },
   "outputs": [
    {
     "data": {
      "image/png": "[encoded data removed]",
      "text/plain": [
       "<matplotlib.figure.Figure at 0x7f03fdc8b4e0>"
      ]
     },
     "metadata": {},
     "output_type": "display_data"
    }
   ],
   "source": [
    "sns.distplot(sample1[1].values)\n",
    "\n",
    "sns.distplot(sample2[1].values)\n",
    "plt.legend(['first sample','second sample'])\n",
    "plt.show()"
   ]
  },
  {
   "cell_type": "code",
   "execution_count": null,
   "metadata": {
    "colab": {},
    "colab_type": "code",
    "id": "Z-5ammelgOnA"
   },
   "outputs": [],
   "source": []
  }
 ],
 "metadata": {
  "colab": {
   "collapsed_sections": [],
   "name": "Assignment.ipynb",
   "provenance": []
  },
  "kernelspec": {
   "display_name": "Python 3",
   "language": "python",
   "name": "python3"
  },
  "language_info": {
   "codemirror_mode": {
    "name": "ipython",
    "version": 3
   },
   "file_extension": ".py",
   "mimetype": "text/x-python",
   "name": "python",
   "nbconvert_exporter": "python",
   "pygments_lexer": "ipython3",
   "version": "3.6.9"
  }
 },
 "nbformat": 4,
 "nbformat_minor": 1
}
